{
 "cells": [
  {
   "cell_type": "code",
   "execution_count": 41,
   "metadata": {},
   "outputs": [],
   "source": [
    "import requests\n",
    "import json\n"
   ]
  },
  {
   "cell_type": "code",
   "execution_count": 55,
   "metadata": {},
   "outputs": [],
   "source": [
    "WebPage = 'https://api.vk.com/method/groups.get?v=5.52&access_token=39a63b3415cf1da39da9236179af5748d7eb543f0229c72283807fa9e32a44477dda688f7d8afed152648'\n",
    "token = '39a63b3415cf1da39da9236179af5748d7eb543f0229c72283807fa9e32a44477dda688f7d8afed152648'"
   ]
  },
  {
   "cell_type": "code",
   "execution_count": 56,
   "metadata": {},
   "outputs": [
    {
     "data": {
      "text/plain": [
       "{'response': {'count': 9,\n",
       "  'items': [142638509,\n",
       "   161234931,\n",
       "   38834885,\n",
       "   26555975,\n",
       "   142758151,\n",
       "   132543869,\n",
       "   48238711,\n",
       "   144433772,\n",
       "   145603395]}}"
      ]
     },
     "execution_count": 56,
     "metadata": {},
     "output_type": "execute_result"
    }
   ],
   "source": [
    "vk = requests.get(f'{WebPage}')\n",
    "vk.json()"
   ]
  },
  {
   "cell_type": "code",
   "execution_count": 57,
   "metadata": {},
   "outputs": [],
   "source": [
    "with open('vk.json', 'w') as f:\n",
    "    json.dump(vk.json(), f)"
   ]
  }
 ],
 "metadata": {
  "kernelspec": {
   "display_name": "Python 3",
   "language": "python",
   "name": "python3"
  },
  "language_info": {
   "codemirror_mode": {
    "name": "ipython",
    "version": 3
   },
   "file_extension": ".py",
   "mimetype": "text/x-python",
   "name": "python",
   "nbconvert_exporter": "python",
   "pygments_lexer": "ipython3",
   "version": "3.8.3"
  }
 },
 "nbformat": 4,
 "nbformat_minor": 4
}
